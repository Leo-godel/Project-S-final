{
 "cells": [
  {
   "cell_type": "code",
   "execution_count": 1,
   "metadata": {},
   "outputs": [],
   "source": [
    "import numpy as np\n",
    "import matplotlib.pyplot as plt"
   ]
  },
  {
   "cell_type": "markdown",
   "metadata": {},
   "source": [
    "# Transform coordinates from the solar center-of-mass coordinate system to the topocentric coordinate system defined by observer's location"
   ]
  },
  {
   "cell_type": "code",
   "execution_count": 5,
   "metadata": {},
   "outputs": [],
   "source": [
    "trajectories = np.loadtxt('coordinates_evolution.csv', delimiter = ',')"
   ]
  },
  {
   "cell_type": "code",
   "execution_count": 6,
   "metadata": {},
   "outputs": [],
   "source": [
    "def R0(coords):\n",
    "    rot0 = np.array([[0,1,0],\n",
    "                 [-1,0,0],\n",
    "                 [0,0,1]])\n",
    "    return coords @ rot0\n",
    "\n",
    "def R1(time, coords, xi_0 = 23.439 * np.pi/180, gamma_0 = 52 * np.pi/180, Omega = 2*np.pi/86164.09053):\n",
    "    output = np.zeros(coords.shape)\n",
    "    x = np.cos(xi_0) * np.cos(gamma_0 + Omega * time) * coords[:,0] + np.sin(gamma_0 + Omega * time) * coords[:,1]\n",
    "    y = -np.cos(xi_0) * np.sin(gamma_0 + Omega * time) * coords[:,0] + np.cos(gamma_0 + Omega * time) * coords[:,1]\n",
    "    z = np.sin(xi_0) * coords[:,0]\n",
    "    output[:,0] = x\n",
    "    output[:,1] = y\n",
    "    output[:,2] = z\n",
    "    return output\n",
    "\n",
    "def R2(time, coords, theta, phi, re = 6371071.03):\n",
    "    output = np.zeros(coords.shape)\n",
    "    x = np.cos(theta) * np.cos(phi) * coords[:,0] + np.sin(phi) * np.cos(theta) * coords[:,1] - np.sin(theta) * coords[:,2]\n",
    "    y = - np.sin(phi) * coords[:,0] + np.cos(phi) * coords[:,1]\n",
    "    z = np.cos(phi) * np.sin(theta) * coords[:,0] + np.sin(phi) * np.sin(theta) * coords[:,1] + np.cos(theta) * coords[:,2] - re\n",
    "    output[:,0] = x\n",
    "    output[:,1] = y\n",
    "    output[:,2] = z\n",
    "    return output\n"
   ]
  },
  {
   "cell_type": "code",
   "execution_count": 7,
   "metadata": {},
   "outputs": [],
   "source": [
    "t = trajectories[:,0]\n",
    "sun_a = trajectories[:,1:4]\n",
    "sun_b = trajectories[:,4:7]\n",
    "earth = trajectories[:,7:10]\n",
    "moon = trajectories[:,10:13]"
   ]
  },
  {
   "cell_type": "code",
   "execution_count": 8,
   "metadata": {},
   "outputs": [],
   "source": [
    "sun_a_rot0 = R0(sun_a)\n",
    "sun_b_rot0 = R0(sun_b)\n",
    "earth_rot0 = R0(earth)\n",
    "moon_rot0 = R0(moon)"
   ]
  },
  {
   "cell_type": "code",
   "execution_count": 9,
   "metadata": {},
   "outputs": [],
   "source": [
    "sun_a_rot1 = sun_a_rot0 - earth_rot0\n",
    "sun_b_rot1 = sun_b_rot0 - earth_rot0\n",
    "moon_rot1 = moon_rot0 - earth_rot0"
   ]
  },
  {
   "cell_type": "code",
   "execution_count": 10,
   "metadata": {},
   "outputs": [],
   "source": [
    "sun_a_rot2 = R1(t, sun_a_rot1)\n",
    "sun_b_rot2 = R1(t, sun_b_rot1)\n",
    "moon_rot2 = R1(t, moon_rot1)"
   ]
  },
  {
   "cell_type": "markdown",
   "metadata": {},
   "source": [
    "# Berkeley topocentric coordinate generation"
   ]
  },
  {
   "cell_type": "code",
   "execution_count": 17,
   "metadata": {},
   "outputs": [],
   "source": [
    "berkeley_longitude = -122.4219 * np.pi/180\n",
    "berkeley_latitude = 37.48205 * np.pi/180\n",
    "\n",
    "latitude = berkeley_latitude\n",
    "longitude = berkeley_longitude\n",
    "\n",
    "theta_0 = np.pi/2 - latitude\n",
    "phi_0 = longitude\n",
    "\n",
    "sun_a_rot3 = R2(t, sun_a_rot2, theta_0, phi_0)\n",
    "sun_b_rot3 = R2(t, sun_b_rot2, theta_0, phi_0)\n",
    "moon_rot3 = R2(t, moon_rot2, theta_0, phi_0)\n",
    "\n",
    "sun_a_azi = 180 - np.arctan2(sun_a_rot3[:,1], sun_a_rot3[:,0]) * 180/np.pi\n",
    "# sun_a_azi_se = -np.arctan2(sun_a_rot3[:,1], sun_a_rot3[:,0]) * 180/np.pi\n",
    "r_sun_a = np.sqrt(sun_a_rot3[:,0]**2 + sun_a_rot3[:,1]**2)\n",
    "sun_a_alt = np.arctan2(sun_a_rot3[:,2], r_sun_a) * 180/np.pi\n",
    "\n",
    "sun_b_azi = 180 - np.arctan2(sun_b_rot3[:,1], sun_b_rot3[:,0]) * 180/np.pi\n",
    "# sun_b_azi_se = -np.arctan2(sun_b_rot3[:,1], sun_b_rot3[:,0]) * 180/np.pi\n",
    "r_sun_b = np.sqrt(sun_b_rot3[:,0]**2 + sun_b_rot3[:,1]**2)\n",
    "sun_b_alt = np.arctan2(sun_b_rot3[:,2], r_sun_b) * 180/np.pi\n",
    "\n",
    "moon_azi = 180 - np.arctan2(moon_rot3[:,1], moon_rot3[:,0]) * 180/np.pi\n",
    "# moon_azi_se = -np.arctan2(moon_rot3[:,1], moon_rot3[:,0]) * 180/np.pi\n",
    "r_moon = np.sqrt(moon_rot3[:,0]**2 + moon_rot3[:,1]**2)\n",
    "moon_alt = np.arctan2(moon_rot3[:,2], r_moon) * 180/np.pi\n",
    "\n",
    "data_save = np.vstack((t, sun_a_azi, sun_a_alt, sun_b_azi, sun_b_alt, moon_azi, moon_alt)).T\n",
    "header = 'time sun_a_azi sun_a_alt sun_b_azi sun_b_alt moon_azi moon_alt'\n",
    "fmt = '%d %.4f %.4f %.4f %.4f %.4f %.4f'\n",
    "np.savetxt('berkeley_azi_alt.csv', data_save, header = header, fmt = fmt)\n",
    "\n",
    "# data_save = np.vstack((t, sun_a_azi_se, sun_a_alt, sun_b_azi_se, sun_b_alt, moon_azi_se, moon_alt)).T\n",
    "# header = 'time sun_a_azi sun_a_alt sun_b_azi sun_b_alt moon_azi moon_alt'\n",
    "# fmt = '%d %.4f %.4f %.4f %.4f %.4f %.4f'\n",
    "# np.savetxt('berkeley_azi_alt_se.csv', data_save, header = header, fmt = fmt)"
   ]
  },
  {
   "cell_type": "markdown",
   "metadata": {},
   "source": [
    "# Shanghai topocentric coordinate geneartion"
   ]
  },
  {
   "cell_type": "code",
   "execution_count": 18,
   "metadata": {},
   "outputs": [],
   "source": [
    "shanghai_longitude = 121.4845 * np.pi/180\n",
    "shanghai_latitude = 31.79643 * np.pi/180\n",
    "\n",
    "latitude = shanghai_latitude\n",
    "longitude = shanghai_longitude\n",
    "\n",
    "theta_0 = np.pi/2 - latitude\n",
    "phi_0 = longitude\n",
    "\n",
    "sun_a_rot3 = R2(t, sun_a_rot2, theta_0, phi_0)\n",
    "sun_b_rot3 = R2(t, sun_b_rot2, theta_0, phi_0)\n",
    "moon_rot3 = R2(t, moon_rot2, theta_0, phi_0)\n",
    "\n",
    "sun_a_azi = 180 - np.arctan2(sun_a_rot3[:,1], sun_a_rot3[:,0]) * 180/np.pi\n",
    "# sun_a_azi_se = -np.arctan2(sun_a_rot3[:,1], sun_a_rot3[:,0]) * 180/np.pi\n",
    "r_sun_a = np.sqrt(sun_a_rot3[:,0]**2 + sun_a_rot3[:,1]**2)\n",
    "sun_a_alt = np.arctan2(sun_a_rot3[:,2], r_sun_a) * 180/np.pi\n",
    "\n",
    "sun_b_azi = 180 - np.arctan2(sun_b_rot3[:,1], sun_b_rot3[:,0]) * 180/np.pi\n",
    "# sun_b_azi_se = -np.arctan2(sun_b_rot3[:,1], sun_b_rot3[:,0]) * 180/np.pi\n",
    "r_sun_b = np.sqrt(sun_b_rot3[:,0]**2 + sun_b_rot3[:,1]**2)\n",
    "sun_b_alt = np.arctan2(sun_b_rot3[:,2], r_sun_b) * 180/np.pi\n",
    "\n",
    "moon_azi = 180 - np.arctan2(moon_rot3[:,1], moon_rot3[:,0]) * 180/np.pi\n",
    "# moon_azi_se = -np.arctan2(moon_rot3[:,1], moon_rot3[:,0]) * 180/np.pi\n",
    "r_moon = np.sqrt(moon_rot3[:,0]**2 + moon_rot3[:,1]**2)\n",
    "moon_alt = np.arctan2(moon_rot3[:,2], r_moon) * 180/np.pi\n",
    "\n",
    "data_save = np.vstack((t, sun_a_azi, sun_a_alt, sun_b_azi, sun_b_alt, moon_azi, moon_alt)).T\n",
    "header = 'time sun_a_azi sun_a_alt sun_b_azi sun_b_alt moon_azi moon_alt'\n",
    "fmt = '%d %.4f %.4f %.4f %.4f %.4f %.4f'\n",
    "np.savetxt('shanghai_azi_alt.csv', data_save, header = header, fmt = fmt)"
   ]
  },
  {
   "cell_type": "markdown",
   "metadata": {},
   "source": [
    "# Sydney topocentric coordinate generation"
   ]
  },
  {
   "cell_type": "code",
   "execution_count": 19,
   "metadata": {},
   "outputs": [],
   "source": [
    "sydney_longitude = 151.4365 * np.pi/180\n",
    "sydney_latitude = -33.88912 * np.pi/180\n",
    "\n",
    "latitude = sydney_latitude\n",
    "longitude = sydney_longitude\n",
    "\n",
    "theta_0 = np.pi/2 - latitude\n",
    "phi_0 = longitude\n",
    "\n",
    "sun_a_rot3 = R2(t, sun_a_rot2, theta_0, phi_0)\n",
    "sun_b_rot3 = R2(t, sun_b_rot2, theta_0, phi_0)\n",
    "moon_rot3 = R2(t, moon_rot2, theta_0, phi_0)\n",
    "\n",
    "sun_a_azi = 180 - np.arctan2(sun_a_rot3[:,1], sun_a_rot3[:,0]) * 180/np.pi\n",
    "# sun_a_azi_se = -np.arctan2(sun_a_rot3[:,1], sun_a_rot3[:,0]) * 180/np.pi\n",
    "r_sun_a = np.sqrt(sun_a_rot3[:,0]**2 + sun_a_rot3[:,1]**2)\n",
    "sun_a_alt = np.arctan2(sun_a_rot3[:,2], r_sun_a) * 180/np.pi\n",
    "\n",
    "sun_b_azi = 180 - np.arctan2(sun_b_rot3[:,1], sun_b_rot3[:,0]) * 180/np.pi\n",
    "# sun_b_azi_se = -np.arctan2(sun_b_rot3[:,1], sun_b_rot3[:,0]) * 180/np.pi\n",
    "r_sun_b = np.sqrt(sun_b_rot3[:,0]**2 + sun_b_rot3[:,1]**2)\n",
    "sun_b_alt = np.arctan2(sun_b_rot3[:,2], r_sun_b) * 180/np.pi\n",
    "\n",
    "moon_azi = 180 - np.arctan2(moon_rot3[:,1], moon_rot3[:,0]) * 180/np.pi\n",
    "# moon_azi_se = -np.arctan2(moon_rot3[:,1], moon_rot3[:,0]) * 180/np.pi\n",
    "r_moon = np.sqrt(moon_rot3[:,0]**2 + moon_rot3[:,1]**2)\n",
    "moon_alt = np.arctan2(moon_rot3[:,2], r_moon) * 180/np.pi\n",
    "\n",
    "data_save = np.vstack((t, sun_a_azi, sun_a_alt, sun_b_azi, sun_b_alt, moon_azi, moon_alt)).T\n",
    "header = 'time sun_a_azi sun_a_alt sun_b_azi sun_b_alt moon_azi moon_alt'\n",
    "fmt = '%d %.4f %.4f %.4f %.4f %.4f %.4f'\n",
    "np.savetxt('sydney_azi_alt.csv', data_save, header = header, fmt = fmt)"
   ]
  },
  {
   "cell_type": "code",
   "execution_count": null,
   "metadata": {},
   "outputs": [],
   "source": []
  }
 ],
 "metadata": {
  "kernelspec": {
   "display_name": "Python 3",
   "language": "python",
   "name": "python3"
  },
  "language_info": {
   "codemirror_mode": {
    "name": "ipython",
    "version": 3
   },
   "file_extension": ".py",
   "mimetype": "text/x-python",
   "name": "python",
   "nbconvert_exporter": "python",
   "pygments_lexer": "ipython3",
   "version": "3.6.10"
  }
 },
 "nbformat": 4,
 "nbformat_minor": 4
}
